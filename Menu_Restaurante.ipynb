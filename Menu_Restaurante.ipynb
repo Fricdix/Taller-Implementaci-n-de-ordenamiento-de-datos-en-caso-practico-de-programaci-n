{
 "cells": [
  {
   "cell_type": "code",
   "execution_count": 3,
   "id": "0a995bbb-87cb-4229-b2b3-fe691c49b41c",
   "metadata": {},
   "outputs": [],
   "source": [
    "# Menu del restaurante \n",
    "menu_restaurante = {\n",
    "    'Encebollado': {\n",
    "        'precio': 2.25,\n",
    "        'ingredientes': ('pescado', 'yuca', 'cebolla')\n",
    "    },\n",
    "    'Costillas': {\n",
    "        'precio': 3.50,\n",
    "        'ingredientes': ('costillas de cerdo', 'papas fritas', 'ensalada')\n",
    "    },\n",
    "    'Salchipapa': {\n",
    "        'precio': 4.50,\n",
    "        'ingredientes': ('papa', 'salchicha', 'salsas')\n",
    "    },\n",
    "    'Empanada': {\n",
    "        'precio': 2.25,\n",
    "        'ingredientes': ('harina', 'agua', 'queso')\n",
    "    },\n",
    "    'Hamburguesa': {\n",
    "        'precio': 2.75,\n",
    "        'ingredientes': ('pan', 'carne', 'queso')\n",
    "    },\n",
    "    'Arroz con Pollo': {\n",
    "        'precio': 3.00,\n",
    "        'ingredientes': ('arroz', 'pollo', 'vegetales')\n",
    "    },\n",
    "    'Tostada de Camarón': {\n",
    "        'precio': 3.50,\n",
    "        'ingredientes': ('camarón', 'tostada', 'limón')\n",
    "    }\n",
    "}"
   ]
  },
  {
   "cell_type": "code",
   "execution_count": 24,
   "id": "f3915c7d-b317-4513-8024-9db36581adec",
   "metadata": {},
   "outputs": [
    {
     "name": "stdout",
     "output_type": "stream",
     "text": [
      "\n",
      "--- MENÚ DEL RESTAURANTE ---\n",
      "\n",
      "Encebollado\n",
      "  Precio: $2.25\n",
      "  Ingredientes: pescado, yuca, cebolla\n",
      "\n",
      "Costillas\n",
      "  Precio: $3.50\n",
      "  Ingredientes: costillas de cerdo, papas fritas, ensalada\n",
      "\n",
      "Salchipapa\n",
      "  Precio: $4.50\n",
      "  Ingredientes: papa, salchicha, salsas\n",
      "\n",
      "Empanada\n",
      "  Precio: $2.25\n",
      "  Ingredientes: harina, agua, queso\n",
      "\n",
      "Hamburguesa\n",
      "  Precio: $2.48\n",
      "  Ingredientes: pan, carne, queso\n",
      "\n",
      "Tostada de Camaron\n",
      "  Precio: $3.50\n",
      "  Ingredientes: camaron, tostada, limon\n",
      "\n",
      "Arroz Marinero\n",
      "  Precio: $5.00\n",
      "  Ingredientes: arroz, mariscos, limon\n",
      "\n"
     ]
    }
   ],
   "source": [
    "#Mostrar el menu del restaurante\n",
    "def mostrar_menu(menu):\n",
    "    print(\"\\n--- MENÚ DEL RESTAURANTE ---\\n\")\n",
    "    for nombre_plato, detalles in menu.items():\n",
    "        precio = detalles['precio']\n",
    "        ingredientes = detalles['ingredientes']\n",
    "        print(f\"{nombre_plato}\")\n",
    "        print(f\"  Precio: ${precio:.2f}\")\n",
    "        print(f\"  Ingredientes: {', '.join(ingredientes)}\\n\")\n",
    "        # Mostrar el menu al inicio\n",
    "mostrar_menu(menu_restaurante)\n",
    "\n",
    "# Inicializacion del pedido\n",
    "pedido_actual = []\n",
    "total_cuenta = 0.0"
   ]
  },
  {
   "cell_type": "code",
   "execution_count": 21,
   "id": "fa266899-d2d4-4f6d-9ed6-2108e882508a",
   "metadata": {},
   "outputs": [
    {
     "name": "stdin",
     "output_type": "stream",
     "text": [
      "¿Qué plato deseas? (escribe 'fin' para terminar):  Empanada\n"
     ]
    },
    {
     "name": "stdout",
     "output_type": "stream",
     "text": [
      "✅ 'Empanada' añadido al pedido.\n",
      "\n"
     ]
    },
    {
     "name": "stdin",
     "output_type": "stream",
     "text": [
      "¿Qué plato deseas? (escribe 'fin' para terminar):  fin\n"
     ]
    }
   ],
   "source": [
    "# Bucle para recibir el pedido del cliente\n",
    "while True:\n",
    "    try:\n",
    "        entrada = input(\"¿Qué plato deseas? (escribe 'fin' para terminar): \").strip().title()\n",
    "\n",
    "        if entrada.lower() == 'fin':\n",
    "            break\n",
    "\n",
    "        if entrada in menu_restaurante:\n",
    "            pedido_actual.append(entrada)\n",
    "            total_cuenta += menu_restaurante[entrada]['precio']\n",
    "            print(f\"✅ '{entrada}' añadido al pedido.\\n\")\n",
    "        else:\n",
    "            print(\"❌ Disculpa ese plato no esta en el menu.\\n\")\n",
    "    except (KeyError, IndexError, TypeError) as e:\n",
    "        print(\"⚠️ Error de entrada. Por favor, intenta de nuevo.\\n\")\n"
   ]
  },
  {
   "cell_type": "code",
   "execution_count": 22,
   "id": "5ea860fe-dabb-46b4-acdb-7720ea673884",
   "metadata": {},
   "outputs": [
    {
     "name": "stdout",
     "output_type": "stream",
     "text": [
      "\n",
      "--- RESUMEN DEL PEDIDO ---\n",
      "Has pedido:\n",
      " - Empanada ($2.25)\n",
      "\n",
      "Total a pagar: $2.25\n"
     ]
    }
   ],
   "source": [
    "# Mostrar resumen del pedido\n",
    "print(\"\\n--- RESUMEN DEL PEDIDO ---\")\n",
    "if pedido_actual:\n",
    "    print(\"Has pedido:\")\n",
    "    for plato in pedido_actual:\n",
    "        print(f\" - {plato} (${menu_restaurante[plato]['precio']:.2f})\")\n",
    "    print(f\"\\nTotal a pagar: ${total_cuenta:.2f}\")\n",
    "else:\n",
    "    print(\"No se realizo ningún pedido.\")"
   ]
  },
  {
   "cell_type": "code",
   "execution_count": 23,
   "id": "2cb645c1-6992-48d2-b519-160dfb6c372d",
   "metadata": {},
   "outputs": [
    {
     "name": "stdout",
     "output_type": "stream",
     "text": [
      "\n",
      "--- MENU ACTUALIZADO ---\n",
      "\n",
      "--- MENU RESTAURANTE ---\n",
      "Encebollado\n",
      "   Precio: $2.25\n",
      "   Ingredientes: pescado, yuca, cebolla\n",
      "\n",
      "Costillas\n",
      "   Precio: $3.50\n",
      "   Ingredientes: costillas de cerdo, papas fritas, ensalada\n",
      "\n",
      "Salchipapa\n",
      "   Precio: $4.50\n",
      "   Ingredientes: papa, salchicha, salsas\n",
      "\n",
      "Empanada\n",
      "   Precio: $2.25\n",
      "   Ingredientes: harina, agua, queso\n",
      "\n",
      "Hamburguesa\n",
      "   Precio: $2.48\n",
      "   Ingredientes: pan, carne, queso\n",
      "\n",
      "Tostada de Camaron\n",
      "   Precio: $3.50\n",
      "   Ingredientes: camaron, tostada, limon\n",
      "\n",
      "Arroz Marinero\n",
      "   Precio: $5.00\n",
      "   Ingredientes: arroz, mariscos, limon\n",
      "\n",
      "\n",
      " ESPECIALES DEL DIA \n",
      "Encebollado - $2.25\n",
      "   Ingredientes: pescado, yuca, cebolla\n",
      "\n",
      "Arroz Marinero - $5.00\n",
      "   Ingredientes: arroz, mariscos, limon\n",
      "\n",
      "Tostada de Camaron - $3.50\n",
      "   Ingredientes: camaron, tostada, limon\n",
      "\n"
     ]
    }
   ],
   "source": [
    "# Parte 3: Manipulacion avanzada del menu\n",
    "\n",
    "# Modificar el precio de la Hamburguesa con un 10% de descuento\n",
    "menu_restaurante['Hamburguesa']['precio'] *= 0.9\n",
    "\n",
    "# Añadir nuevo plato temporal\n",
    "menu_restaurante['Arroz Marinero'] = {\n",
    "    'precio': 5.00,\n",
    "    'ingredientes': ('arroz', 'mariscos', 'limon')\n",
    "}\n",
    "\n",
    "# Mostrar el menu actualizado\n",
    "print(\"\\n--- MENU ACTUALIZADO ---\")\n",
    "mostrar_menu(menu_restaurante)\n",
    "\n",
    "# Mostrar especiales del dia\n",
    "especiales_del_dia = ['Encebollado', 'Arroz Marinero', 'Tostada de Camaron']\n",
    "print(\"\\n ESPECIALES DEL DIA \")\n",
    "for especial in especiales_del_dia:\n",
    "    detalles = menu_restaurante[especial]\n",
    "    print(f\"{especial} - ${detalles['precio']:.2f}\")\n",
    "    print(f\"   Ingredientes: {', '.join(detalles['ingredientes'])}\\n\")\n",
    "\n",
    "\n"
   ]
  },
  {
   "cell_type": "code",
   "execution_count": 15,
   "id": "5be6579b-cba2-4d9f-8047-190bd67e254d",
   "metadata": {},
   "outputs": [],
   "source": [
    "#Exploracion de errores \n",
    "\n",
    "# IndexError: acceder a un indice que no existe\n",
    "# print(pedido_actual[10])  # IndexError: solo hay pocos elementos en la lista\n",
    "\n",
    "# KeyError: acceder a una clave inexistente\n",
    "# print(menu_restaurante['Pizza'])  # KeyError: 'Pizza' no existe en el diccionario\n",
    "\n",
    "# TypeError: intentar modificar una tupla (inmutable)\n",
    "# menu_restaurante['Encebollado']['ingredientes'][0] = 'pollo'  # TypeError"
   ]
  },
  {
   "cell_type": "code",
   "execution_count": null,
   "id": "0bcc6e6d-2185-4286-8c2f-88ecf42c881f",
   "metadata": {},
   "outputs": [],
   "source": []
  }
 ],
 "metadata": {
  "kernelspec": {
   "display_name": "Python 3 (ipykernel)",
   "language": "python",
   "name": "python3"
  },
  "language_info": {
   "codemirror_mode": {
    "name": "ipython",
    "version": 3
   },
   "file_extension": ".py",
   "mimetype": "text/x-python",
   "name": "python",
   "nbconvert_exporter": "python",
   "pygments_lexer": "ipython3",
   "version": "3.12.11"
  }
 },
 "nbformat": 4,
 "nbformat_minor": 5
}
